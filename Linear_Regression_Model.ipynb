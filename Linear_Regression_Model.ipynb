{
 "cells": [
  {
   "metadata": {
    "ExecuteTime": {
     "end_time": "2024-12-11T16:28:12.460376Z",
     "start_time": "2024-12-11T16:28:08.894278Z"
    }
   },
   "cell_type": "code",
   "source": "import pandas as pd",
   "id": "9195d0c73a168a8",
   "outputs": [],
   "execution_count": 1
  },
  {
   "cell_type": "code",
   "id": "initial_id",
   "metadata": {
    "collapsed": true,
    "ExecuteTime": {
     "end_time": "2024-12-11T16:28:15.186067Z",
     "start_time": "2024-12-11T16:28:15.171750Z"
    }
   },
   "source": [
    "class LinearRegressionModel:\n",
    "    def __init__(self):\n",
    "        self.m = None\n",
    "        self.b = None\n",
    "    def fit(self,x_train, y_train):\n",
    "        num = 0\n",
    "        den = 0\n",
    "        for i in range(x_train.shape[0]):\n",
    "            num = num + ((x_train[i] - x_train.mean()) * (y_train[i] - y_train.mean()))\n",
    "            den = den + ((x_train[i] - x_train.mean()) * (x_train[i] - x_train.mean()))\n",
    "        self.m = num / den\n",
    "        self.b = y_train.mean() - (self.m*x_train.mean())\n",
    "        print(self.m)\n",
    "        print(self.b)\n",
    "    def predict(self, x_test):\n",
    "        return self.m * x_test + self.b"
   ],
   "outputs": [],
   "execution_count": 2
  },
  {
   "metadata": {
    "ExecuteTime": {
     "end_time": "2024-12-11T16:28:16.549104Z",
     "start_time": "2024-12-11T16:28:16.460480Z"
    }
   },
   "cell_type": "code",
   "source": "df = pd.read_csv(\"placement.csv\")",
   "id": "123d94fd1cd7b425",
   "outputs": [],
   "execution_count": 3
  },
  {
   "metadata": {
    "ExecuteTime": {
     "end_time": "2024-12-11T16:28:19.057129Z",
     "start_time": "2024-12-11T16:28:19.047341Z"
    }
   },
   "cell_type": "code",
   "source": [
    "X = df.iloc[:, 0].values\n",
    "y = df.iloc[:, 1].values"
   ],
   "id": "33aca0f6b467dcd8",
   "outputs": [],
   "execution_count": 5
  },
  {
   "metadata": {
    "ExecuteTime": {
     "end_time": "2024-12-11T16:28:27.422007Z",
     "start_time": "2024-12-11T16:28:21.109964Z"
    }
   },
   "cell_type": "code",
   "source": [
    "from sklearn.model_selection import train_test_split\n",
    "X_train, X_test, Y_train, y_test = train_test_split(X, y, test_size=0.2, random_state=2)"
   ],
   "id": "a6d1383556a113bf",
   "outputs": [],
   "execution_count": 7
  },
  {
   "metadata": {
    "ExecuteTime": {
     "end_time": "2024-12-11T16:28:45.986705Z",
     "start_time": "2024-12-11T16:28:45.977346Z"
    }
   },
   "cell_type": "code",
   "source": "X_train.shape",
   "id": "4699d4b72e6569d8",
   "outputs": [
    {
     "data": {
      "text/plain": [
       "(160,)"
      ]
     },
     "execution_count": 8,
     "metadata": {},
     "output_type": "execute_result"
    }
   ],
   "execution_count": 8
  },
  {
   "metadata": {
    "ExecuteTime": {
     "end_time": "2024-12-11T16:28:47.925500Z",
     "start_time": "2024-12-11T16:28:47.920334Z"
    }
   },
   "cell_type": "code",
   "source": "lr = LinearRegressionModel()",
   "id": "1f638ef43d693cbd",
   "outputs": [],
   "execution_count": 9
  },
  {
   "metadata": {
    "ExecuteTime": {
     "end_time": "2024-12-11T16:28:48.958371Z",
     "start_time": "2024-12-11T16:28:48.945604Z"
    }
   },
   "cell_type": "code",
   "source": "lr.fit(X_train, Y_train)",
   "id": "ad4875cc96d3f778",
   "outputs": [
    {
     "name": "stdout",
     "output_type": "stream",
     "text": [
      "0.5579519734250721\n",
      "-0.8961119222429152\n"
     ]
    }
   ],
   "execution_count": 10
  },
  {
   "metadata": {
    "ExecuteTime": {
     "end_time": "2024-12-11T16:28:49.816446Z",
     "start_time": "2024-12-11T16:28:49.809363Z"
    }
   },
   "cell_type": "code",
   "source": [
    "predicted_package = lr.predict(X_test[0])\n",
    "print(predicted_package)"
   ],
   "id": "4fa292004df716ef",
   "outputs": [
    {
     "name": "stdout",
     "output_type": "stream",
     "text": [
      "3.891116009744203\n"
     ]
    }
   ],
   "execution_count": 11
  },
  {
   "metadata": {},
   "cell_type": "code",
   "outputs": [],
   "execution_count": null,
   "source": "",
   "id": "8dafa5ab258ae3ee"
  }
 ],
 "metadata": {
  "kernelspec": {
   "display_name": "Python 3",
   "language": "python",
   "name": "python3"
  },
  "language_info": {
   "codemirror_mode": {
    "name": "ipython",
    "version": 2
   },
   "file_extension": ".py",
   "mimetype": "text/x-python",
   "name": "python",
   "nbconvert_exporter": "python",
   "pygments_lexer": "ipython2",
   "version": "2.7.6"
  }
 },
 "nbformat": 4,
 "nbformat_minor": 5
}
